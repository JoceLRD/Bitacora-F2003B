{
 "cells": [
  {
   "cell_type": "markdown",
   "id": "37b99c2b",
   "metadata": {},
   "source": [
    "# Actividad 4\n",
    "Jocelyn Janet Parés Ramos\n",
    "\n",
    "Juan Pablo de la Vega Lozano\n",
    "\n",
    "Carlos Alberto Torre Sánchez \n",
    "\n",
    "Ana Camila Murillo Fernández\n",
    "\n",
    "Gael García Zúñiga\n"
   ]
  },
  {
   "cell_type": "markdown",
   "id": "498a3e42",
   "metadata": {},
   "source": [
    "# Parte 2 - Ecuación de onda en 2D\n",
    "Imagina que tienes un cuarto grande, de 10m de lado, con una columna metálica de 1m de ancho en el centro. Pones el router del wifi en la esquina, pero quieres saber si la señal llegará a todo el cuarto. Puedes considerar el cuarto como un cuadrado bidimensional, el router como una fuente puntual, y será suficiente con resolver la ecuación de onda escalar. Considera también que las paredes son perfectamente reflejantes. "
   ]
  },
  {
   "cell_type": "markdown",
   "id": "f9fc1762",
   "metadata": {},
   "source": [
    "La ecuación escalar de onda con una fuente es:\n",
    "$$\n",
    "\\frac{\\partial^2 U(\\vec{r},t)}{\\partial t^2}-v^2\\nabla^2 U(\\vec{r},t)=s(\\vec{r},t)\n",
    "$$\n",
    "donde $U(\\vec{r},t)$ es la función de onda, y $s(\\vec{r},t)$ es la fuente. \n",
    "\n",
    "A partir de esta ecuación, escribe una ecuación de diferencias finitas para calcular aproximadamente $U(\\vec{r},t+\\Delta t)$\n",
    "."
   ]
  },
  {
   "cell_type": "markdown",
   "id": "8f31da9e",
   "metadata": {},
   "source": []
  },
  {
   "cell_type": "markdown",
   "id": "95fb0680",
   "metadata": {},
   "source": [
    "Responde lo siguiente:\n",
    "\n",
    "-**¿Qué estructura de datos puedes usar para guardar la información de $U(\\vec{r},t)$?**\n",
    "\n",
    "-**¿Cómo debes especificar las condiciones iniciales?**\n",
    "\n",
    "-**¿Cómo modelarías la fuente?**\n",
    "\n",
    "-**¿Cómo puedes introducir la fuente al algoritmo?**"
   ]
  },
  {
   "cell_type": "markdown",
   "id": "7b9fb0ba",
   "metadata": {},
   "source": [
    "Muestra mapas de color que muestren el valor del campo al final de cada una de las primeras cinco oscilaciones. "
   ]
  },
  {
   "cell_type": "markdown",
   "id": "39eba62c",
   "metadata": {},
   "source": [
    "Muestra un mapa de color con el promedio temporal de la intensidad del campo. "
   ]
  }
 ],
 "metadata": {
  "kernelspec": {
   "display_name": "base",
   "language": "python",
   "name": "python3"
  },
  "language_info": {
   "name": "python",
   "version": "3.12.3"
  }
 },
 "nbformat": 4,
 "nbformat_minor": 5
}
