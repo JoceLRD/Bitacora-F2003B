{
 "cells": [
  {
   "cell_type": "code",
   "execution_count": null,
   "id": "94c79690",
   "metadata": {},
   "outputs": [],
   "source": [
    "import numpy as np\n",
    "import matplotlib.pyplot as plt\n",
    "from matplotlib.animation import FuncAnimation\n",
    "\n",
    "# Parámetros\n",
    "L = 100.0      # Longitud de la caja en micras\n",
    "D = 1.0        # Coeficiente de difusión\n",
    "dx = 1.0       # Paso espacial\n",
    "dt = 0.4       # Paso temporal (cumple condición de estabilidad)\n",
    "x = np.arange(0, L + dx, dx)\n",
    "Nx = len(x)\n",
    "total_time = 100\n",
    "n_steps = int(total_time / dt)\n",
    "\n",
    "# Inicialización de la distribución de probabilidad\n",
    "P = np.zeros(Nx)\n",
    "P[Nx // 2] = 1.0\n",
    "P = P / (dx * np.sum(P))  # Normalizamos para que la integral sea ~1\n",
    "\n",
    "# Guardamos la evolución para la animación\n",
    "history = []\n",
    "history.append(P.copy())\n",
    "\n",
    "# Evolución temporal\n",
    "for step in range(n_steps):\n",
    "    P_new = np.copy(P)\n",
    "    for i in range(1, Nx - 1):\n",
    "        P_new[i] = P[i] + D * dt / dx**2 * (P[i + 1] - 2 * P[i] + P[i - 1])\n",
    "    # Condiciones de frontera absorbentes\n",
    "    P_new[0] = 0\n",
    "    P_new[-1] = 0\n",
    "    P = P_new\n",
    "    history.append(P.copy())\n",
    "\n",
    "# Configuración de la animación\n",
    "fig, ax = plt.subplots(figsize=(10, 6))\n",
    "line, = ax.plot(x, history[0])\n",
    "ax.set_xlim(0, L)\n",
    "ax.set_ylim(0, max(history[0]) * 1.2)\n",
    "ax.set_xlabel('Posición (micras)')\n",
    "ax.set_ylabel('Probabilidad P(x,t)')\n",
    "ax.set_title('Evolución de la distribución de probabilidad')\n",
    "\n",
    "# Función que actualiza cada cuadro\n",
    "def update(frame):\n",
    "    line.set_ydata(history[frame])\n",
    "    ax.set_title(f'Evolución de P(x,t) - Tiempo: {frame * dt:.1f} s')\n",
    "    return line,\n",
    "\n",
    "# Crear animación\n",
    "anim = FuncAnimation(fig, update, frames=len(history), interval=50, blit=True)\n",
    "\n",
    "# Mostrar en Jupyter\n",
    "from IPython.display import HTML\n",
    "HTML(anim.to_jshtml())"
   ]
  }
 ],
 "metadata": {
  "kernelspec": {
   "display_name": "base",
   "language": "python",
   "name": "python3"
  },
  "language_info": {
   "codemirror_mode": {
    "name": "ipython",
    "version": 3
   },
   "file_extension": ".py",
   "mimetype": "text/x-python",
   "name": "python",
   "nbconvert_exporter": "python",
   "pygments_lexer": "ipython3",
   "version": "3.12.3"
  }
 },
 "nbformat": 4,
 "nbformat_minor": 5
}
