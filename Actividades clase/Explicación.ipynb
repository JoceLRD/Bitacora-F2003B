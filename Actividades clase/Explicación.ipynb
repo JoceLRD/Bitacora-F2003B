{
 "cells": [
  {
   "cell_type": "markdown",
   "id": "e542bebf",
   "metadata": {},
   "source": [
    "# Fast Fourier Tran\n",
    "$\\scripty{r}$"
   ]
  }
 ],
 "metadata": {
  "language_info": {
   "name": "python"
  }
 },
 "nbformat": 4,
 "nbformat_minor": 5
}
