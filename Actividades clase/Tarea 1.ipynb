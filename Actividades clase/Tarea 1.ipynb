{
 "cells": [
  {
   "cell_type": "markdown",
   "metadata": {},
   "source": [
    "# Pregunta 4\n",
    "\[
\int_{-1}^{1} 5x e^{-2x} \,dx = -\frac{5}{2} \left( \left. \frac{3x}{2} e^{-2x} + \frac{1}{2} e^{-2x} \right|_{-1}^{1} \right)
\]
\[
= -\frac{5}{2} \left( \frac{3}{2} e^{-2} + \frac{1}{2} e^2 \right) \approx -9.744
\]\n",

]
}
