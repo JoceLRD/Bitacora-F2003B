## Problema 9

Evaluar la integral:

$$\int_{-4\pi}^{4\pi} \frac{\sin(x)}{x}\,dx$$

### Solución Analítica

La función que estamos integrando, $\frac{\sin(x)}{x}$, es una función simétrica (función par), ya que $\frac{\sin(-x)}{-x} = \frac{\sin(x)}{x}$. Por lo tanto, la integral se puede simplificar a:

$$
\int_{-a}^{a} \frac{\sin(x)}{x}\,dx = 2\int_{0}^{a} \frac{\sin(x)}{x}\,dx
$$

Se sabe por la función integral seno cardinal (función Si(x)) que:

$$
\int \frac{\sin(x)}{x}\,dx = \text{Si}(x) + C
$$

Por lo tanto, analíticamente:

$$
\int_{-4\pi}^{4\pi} \frac{\sin(x)}{x}\,dx = 2\,\text{Si}(4\pi)
$$

Evaluando numéricamente:

```python
from scipy.special import sici
import numpy as np

resultado_analitico = 2 * sici(4 * np.pi)[0]
print(f'Solución analítica: {resultado_analitico}')
```

### Solución con Simpson

```python
import numpy as np
from scipy.integrate import simps

x = np.linspace(-4*np.pi, 4*np.pi, 1000)
y = np.sinc(x/np.pi)  # np.sinc(x) = sin(pi*x)/(pi*x)
resultado_simpson = simps(y, x)
print(f'Solución con Simpson: {resultado_simpson}')
```

### Solución con Cuadratura Gaussiana

```python
import numpy as np
from scipy.integrate import quad

integrando = lambda x: np.sinc(x/np.pi)
resultado_gauss, _ = quad(integrando, -4*np.pi, 4*np.pi)
print(f'Solución con Cuadratura Gaussiana: {resultado_gauss}')
