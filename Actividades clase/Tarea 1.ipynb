Solucion analitica de la integral de la exprecion: 5*x*e**(-2*x)
\[
\int_{-1}^{1} 5x e^{-2x} \,dx = -\frac{5}{2} \left( \left. \frac{3x}{2} e^{-2x} + \frac{1}{2} e^{-2x} \right|_{-1}^{1} \right)
\]
\[
= -\frac{5}{2} \left( \frac{3}{2} e^{-2} + \frac{1}{2} e^2 \right) \approx -9.744
\]
