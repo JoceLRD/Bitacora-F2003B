{
 "cells": [
  {
   "cell_type": "markdown",
   "metadata": {},
   "source": [
    "## Problema 9\n",
    "Calcular la integral definida siguiente:\n",
    "\n",
    "$$\\int_{-4\\pi}^{4\\pi} \\frac{\\sin(x)}{x}\\,dx$$"
   ]
  },
  {
   "cell_type": "markdown",
   "metadata": {},
   "source": [
    "### Solución analítica\n",
    "La función $\\frac{\\sin(x)}{x}$ es una función sinc, que es una función impar. La integral de una función impar en un intervalo simétrico respecto al origen siempre es cero. Por lo tanto, la integral es:\n",
    "\n",
    "$$\\int_{-4\\pi}^{4\\pi} \\frac{\\sin(x)}{x}\\,dx = 0$$"
   ]
  },
  {
   "cell_type": "code",
   "execution_count": null,
   "metadata": {},
   "outputs": [],
   "source": [
    "import numpy as np\n",
    "import matplotlib.pyplot as plt\n",
    "\n",
    "x = np.linspace(-4*np.pi, 4*np.pi, 1000)\n",
    "y = np.sinc(x/np.pi)\n",
    "\n",
    "plt.plot(x, y, label='sin(x)/x')\n",
    "plt.axhline(0, color='black', linewidth=0.5)\n",
    "plt.title('Gráfica de sin(x)/x')\n",
    "plt.xlabel('x')\n",
    "plt.ylabel('sin(x)/x')\n",
    "plt.legend()\n",
    "plt.grid(True)\n",
    "plt.show()"
   ]
  },
  {
   "cell_type": "markdown",
   "metadata": {},
   "source": [
    "### Solución con Simpson"
   ]
  },
  {
   "cell_type": "code",
   "execution_count": null,
   "metadata": {},
   "outputs": [],
   "source": [
    "from scipy.integrate import simps\n",
    "\n",
    "x = np.linspace(-4*np.pi, 4*np.pi, 1001)\n",
    "y = np.sinc(x/np.pi)\n",
    "\n",
    "integral_simpson = simps(y, x)\n",
    "print(f'La integral por Simpson es: {integral_simpson}')"
   ]
  },
  {
   "cell_type": "markdown",
   "metadata": {},
   "source": [
    "### Solución con Cuadratura Gaussiana"
   ]
  },
  {
   "cell_type": "code",
   "execution_count": null,
   "metadata": {},
   "outputs": [],
   "source": [
    "from scipy.integrate import quad\n",
    "\n",
    "integral_gauss, error = quad(lambda x: np.sinc(x/np.pi), -4*np.pi, 4*np.pi)\n",
    "print(f'La integral por cuadratura gaussiana es: {integral_gauss}')"
   ]
  }
 ],
 "metadata": {
  "kernelspec": {
   "display_name": "Python 3",
   "language": "python",
   "name": "python3"
  },
  "language_info": {
   "codemirror_mode": {
    "name": "ipython",
    "version": 3
   },
   "file_extension": ".py",
   "mimetype": "text/x-python",
   "name": "python",
   "nbconvert_exporter": "python",
   "pygments_lexer": "ipython3",
   "version": "3.11"
  }
 },
 "nbformat": 4,
 "nbformat_minor": 5
}
