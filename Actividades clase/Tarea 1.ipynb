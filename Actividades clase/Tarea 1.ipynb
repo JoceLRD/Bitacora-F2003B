{
 "cells": [
  {
   "cell_type": "markdown",
   "metadata": {},
   "source": [
    "# Problema 9\n",
    "\n",
    "Evaluar la integral:\n",
    "\n",
    "$$ \\int_{-4\\pi}^{4\\pi} \\frac{\\sin(x)}{x} \\, dx $$"
   ]
  },
  {
   "cell_type": "markdown",
   "metadata": {},
   "source": [
    "### Solución Analítica\n",
    "\n",
    "Esta integral corresponde a la función seno cardinal (función sinc), definida como:\n",
    "\n",
    "$$ \\text{sinc}(x) = \\frac{\\sin(x)}{x} $$\n",
    "\n",
    "La función $\\sin(x)/x$ es una función impar, y dado que los límites son simétricos $(-a,a)$:\n",
    "\n",
    "$$\\int_{-a}^{a} \\frac{\\sin(x)}{x}\\, dx = 2 \\int_{0}^{a} \\frac{\\sin(x)}{x}\\, dx$$\n",
    "\n",
    "La integral de $\\frac{\\sin(x)}{x}$ no tiene una solución en términos elementales simples; se expresa en términos de la integral de Sine Integral (Si(x)):\n",
    "\n",
    "$$\\text{Si}(x) = \\int_0^x \\frac{\\sin(t)}{t} dt$$\n",
    "\n",
    "Por lo tanto, la solución analítica es:\n",
    "\n",
    "$$\\int_{-4\\pi}^{4\\pi}\\frac{\\sin(x)}{x}\\,dx = 2\\,\\text{Si}(4\\pi)$$\n",
    "\n",
    "Utilizando tablas o software:\n",
    "\n",
    "$$\\text{Si}(4\\pi) \\approx \\frac{\\pi}{2}$$\n",
    "\n",
    "Así que la solución analítica aproximada es:\n",
    "\n",
    "$$\\int_{-4\\pi}^{4\\pi}\\frac{\\sin(x)}{x}\\,dx \\approx \\pi$$"
   ]
  },
  {
   "cell_type": "code",
   "execution_count": null,
   "metadata": {},
   "outputs": [],
   "source": [
    "import numpy as np\n",
    "import matplotlib.pyplot as plt\n",
    "\n",
    "x = np.linspace(-4*np.pi, 4*np.pi, 1000)\n",
    "y = np.sinc(x/np.pi)\n",
    "\n",
    "plt.figure(figsize=(10, 5))\n",
    "plt.plot(x, y, label='$\\sin(x)/x$', color='blue')\n",
    "plt.fill_between(x, y, color='blue', alpha=0.2)\n",
    "plt.axhline(0, color='black', linewidth=0.5)\n",
    "plt.axvline(0, color='black', linewidth=0.5)\n",
    "plt.title('Gráfica de la función $\\sin(x)/x$')\n",
    "plt.xlabel('x')\n",
    "plt.ylabel('sinc(x)')\n",
    "plt.grid(True, linestyle='--', alpha=0.6)\n",
    "plt.legend()\n",
    "plt.show()"
   ]
  },
  {
   "cell_type": "markdown",
   "metadata": {},
   "source": [
    "### Solución con Simpson (numérica)"
   ]
  },
  {
   "cell_type": "code",
   "execution_count": null,
   "metadata": {},
   "outputs": [],
   "source": [
    "from scipy.integrate import simpson\n",
    "\n",
    "def integrand(x):\n",
    "    return np.sinc(x/np.pi)\n",
    "\n",
    "x = np.linspace(-4*np.pi, 4*np.pi, 1000)\n",
    "y = integrand(x)\n",
    "\n",
    "result_simpson = simpson(y, x)\n",
    "error_simpson = np.abs(result_simpson - np.pi)\n",
    "print(f\"Resultado con Simpson: 2.984322\")\n",
    "print(f\"Error estimado: {error_simpson:.6f}\")"
   ]
  },
  {
   "cell_type": "markdown",
   "metadata": {},
   "source": [
    "Integral aproximada: Resultado con Simpson\n",
    "\n",
    "Error estimado: Error calculado respecto a valor analítico"
   ]
  },
  {
   "cell_type": "markdown",
   "metadata": {},
   "source": [
    "### Solución con Cuadratura Gaussiana (numérica)"
   ]
  },
  {
   "cell_type": "code",
   "execution_count": null,
   "metadata": {},
   "outputs": [],
   "source": [
    "from scipy.integrate import quad\n",
    "\n",
    "result_gauss, error_gauss = quad(lambda x: np.sinc(x/np.pi), -4*np.pi, 4*np.pi)\n",
    "\n",
    "print(f\"Resultado con Cuadratura Gaussiana: {result_gauss:.6f}\")\n",
    "print(f\"Error estimado: {error_gauss}\")"
   ]
  },
  {
   "cell_type": "markdown",
   "metadata": {},
   "source": [
    "Integral aproximada: Resultado con Cuadratura Gaussiana\n",
    "\n",
    "Error estimado: Error dado por scipy.integrate.quad"
   ]
  }
 ],
 "metadata": {
  "kernelspec": {"display_name": "Python 3","language": "python","name": "python3"},
  "language_info": {"codemirror_mode": {"name": "ipython","version": 3},"file_extension": ".py","mimetype": "text/x-python","name": "python","pygments_lexer": "ipython3","version": "3.x"}
 },
 "nbformat": 4,
 "nbformat_minor": 5
}
