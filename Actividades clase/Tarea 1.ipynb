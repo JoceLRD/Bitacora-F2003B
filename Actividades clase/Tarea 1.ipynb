{
 "cells": [
  {
   "cell_type": "markdown",
   "source": [
    "## Problema 9\n",
    "Evalúa la integral definida siguiente:\n",
    "$$\\int_{-4\\pi}^{4\\pi} \\frac{\\sin(x)}{x} dx$$"
   ],
   "metadata": {}
  },
  {
   "cell_type": "markdown",
   "source": [
    "### Solución Analítica\n",
    "Esta integral corresponde a una función simétrica (impar) por lo que el resultado analítico es:\n",
    "$$\\int_{-a}^{a} \\frac{\\sin(x)}{x} dx = 2 \\int_{0}^{a} \\frac{\\sin(x)}{x} dx$$\n",
    "En este caso específico, es una integral especial que no puede simplificarse fácilmente a funciones elementales. Su solución es numérica y tiene un valor aproximado."
   ],
   "metadata": {}
  },
  {
   "cell_type": "code",
   "execution_count": null,
   "source": [
    "import numpy as np\n",
    "import matplotlib.pyplot as plt\n",
    "from scipy.integrate import quad\n",
    "\n",
    "# Funcion a integrar\n",
    "f = lambda x: np.sinc(x/np.pi)\n",
    "\n",
    "x = np.linspace(-4*np.pi, 4*np.pi, 400)\n",
    "plt.plot(x, f(x))\n",
    "plt.title('Gráfica de $\\sin(x)/x$')\n",
    "plt.xlabel('x')\n",
    "plt.ylabel('$\\sin(x)/x$')\n",
    "plt.grid()\n",
    "plt.show()"
   ],
   "outputs": [],
   "metadata": {}
  },
  {
   "cell_type": "markdown",
   "source": [
    "### Solución con Simpson"
   ],
   "metadata": {}
  },
  {
   "cell_type": "code",
   "execution_count": null,
   "source": [
    "from scipy.integrate import simpson\n",
    "\n",
    "x_simpson = np.linspace(-4*np.pi, 4*np.pi, 1000)\n",
    "y_simpson = f(x_simpson)\n",
    "\n",
    "resultado_simpson = simpson(y_simpson, x_simpson)\n",
    "resultado_simpson"
   ],
   "outputs": [],
   "metadata": {}
  },
  {
   "cell_type": "markdown",
   "source": [
    "### Solución con Gauss Cuadratura"
   ],
   "metadata": {}
  },
  {
   "cell_type": "code",
   "execution_count": null,
   "source": [
    "resultado_gauss, _ = quad(f, -4*np.pi, 4*np.pi)\n",
    "resultado_gauss"
   ],
   "outputs": [],
   "metadata": {}
  }
 ],
 "metadata": {
  "kernelspec": {
   "name": "python3",
   "language": "python"
  },
  "language_info": {
   "version": "3.x",
   "name": "python"
  }
 },
 "nbformat": 4,
 "nbformat_minor": 5
}
