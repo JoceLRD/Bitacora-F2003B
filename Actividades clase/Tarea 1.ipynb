{
 "cells": [
  {
   "cell_type": "markdown",
   "metadata": {},
   "source": [
    "# Pregunta 3\n",
    "$$\\int_{-1}^{1}2x^{4}-3x^{3}+x-5dx$$\n",
    "## Analitico\n",
    "$$\n",
    "\\int_{-1}^{1}2x^{4}-3x^{3}+x-5dx= \\Bigg[\\frac{2x^{5}}{5}-\\frac{3x^{4}}{4}+\\frac{x^{2}}{2}-5x \\Bigg] _{-1}^{1}=\\boxed{-\\frac{46}{5}}=-9.2\\\\\n",
    "$$\n",
    "\n",
    "## Con Cuadratura Gaussiana"
   ]
  },
  {
   "cell_type": "code",
   "execution_count": 6,
   "metadata": {},
   "outputs": [
    {
     "name": "stdout",
     "output_type": "stream",
     "text": [
      "Approximate integral: -9.200000\n",
      "Estimated error: 0.000000\n"
     ]
    }
   ],
   "source": [
    "import numpy as np\n",
    "from scipy.integrate import quad\n",
    "\n",
    "# Define the function to integrate\n",
    "def f(x):\n",
    "    return 2*x**4 - 3*x**3 + x - 5\n",
    "\n",
    "# Compute the integral using Gaussian quadrature\n",
    "result, error = quad(f, -1, 1)\n",
    "print(f\"Approximate integral: {result:.6f}\")\n",
    "print(f\"Estimated error: {error:.6f}\")"
   ]
  },
  {
   "cell_type": "code",
   "execution_count": 3,
   "metadata": {},
   "outputs": [
    {
     "name": "stdout",
     "output_type": "stream",
     "text": [
      "Approximate integral with 5 points: -9.2000000000\n"
     ]
    }
   ],
   "source": [
    "import numpy as np\n",
    "from numpy.polynomial.legendre import leggauss\n",
    "\n",
    "# Define the function to integrate\n",
    "def f(x):\n",
    "    return 2*x**4 - 3*x**3 + x - 5\n",
    "\n",
    "# Number of points (higher = more accurate)\n",
    "n = 5  # 5 points can integrate degree 9 polynomials exactly\n",
    "\n",
    "# Get Gauss-Legendre quadrature points and weights\n",
    "x, w = leggauss(n)\n",
    "\n",
    "# Transform from [-1,1] to our interval (though in this case it's already [-1,1])\n",
    "# For general interval [a,b], you would use: t = 0.5*(b-a)*x + 0.5*(b+a)\n",
    "a, b = -1, 1\n",
    "t = x  # since interval is already [-1,1]\n",
    "\n",
    "# Compute the integral approximation\n",
    "integral = sum(w * f(t)) * (b-a)/2\n",
    "\n",
    "print(f\"Approximate integral with {n} points: {integral:.10f}\")"
   ]
  },
  {
   "cell_type": "markdown",
   "metadata": {},
   "source": [
    "## Con Simpson"
   ]
  },
  {
   "cell_type": "code",
   "execution_count": 12,
   "metadata": {},
   "outputs": [
    {
     "name": "stdout",
     "output_type": "stream",
     "text": [
      "Simpson's rule approximation (scipy): -9.1999952770\n"
     ]
    }
   ],
   "source": [
    "import numpy as np\n",
    "from scipy.integrate import simpson\n",
    "\n",
    "# Define the function\n",
    "def f(x):\n",
    "    return 2*x**4 - 3*x**3 + x - 5\n",
    "\n",
    "# Create evenly spaced points (more points = better accuracy)\n",
    "x = np.linspace(-1, 1)  \n",
    "y = f(x)\n",
    "\n",
    "# Compute using Simpson's rule\n",
    "result = simpson(y, x=x)\n",
    "print(f\"Simpson's rule approximation (scipy): {result:.10f}\")"
   ]
  }
 ],
 "metadata": {
  "kernelspec": {
   "display_name": "base",
   "language": "python",
   "name": "python3"
  },
  "language_info": {
   "codemirror_mode": {
    "name": "ipython",
    "version": 3
   },
   "file_extension": ".py",
   "mimetype": "text/x-python",
   "name": "python",
   "nbconvert_exporter": "python",
   "pygments_lexer": "ipython3",
   "version": "3.12.3"
  }
 },
 "nbformat": 4,
 "nbformat_minor": 2
}
