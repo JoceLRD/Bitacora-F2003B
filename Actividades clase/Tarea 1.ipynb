{
 "cells": [
  {
   "cell_type": "markdown",
   "metadata": {},
   "source": [
    "# Pregunta 3\n",
    "$$\\int_{-1}^{1}2x^{4}-3x^{3}+x-5dx$$\n",
    "## Analitico\n",
    "$$\n",
    "\\begin{aligned}\n",
    "\\int_{-1}^{1}2x^{4}-3x^{3}+x-5dx=& \\\\\n",
    "\n",
    "\\end{aligned}\n",
    "$$\n",
    "## Gauss\n"
   ]
  },
  {
   "cell_type": "markdown",
   "metadata": {},
   "source": []
  },
  {
   "cell_type": "code",
   "execution_count": null,
   "metadata": {},
   "outputs": [],
   "source": [
    "# Código"
   ]
  }
 ],
 "metadata": {
  "kernelspec": {
   "display_name": "base",
   "language": "python",
   "name": "python3"
  },
  "language_info": {
   "name": "python",
   "version": "3.9.18"
  }
 },
 "nbformat": 4,
 "nbformat_minor": 2
}
