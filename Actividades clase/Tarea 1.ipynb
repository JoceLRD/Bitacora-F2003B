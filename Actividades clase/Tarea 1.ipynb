{
 "cells": [
  {
   "cell_type": "markdown",
   "metadata": {},
   "source": [
    "# Pregunta 3\n",
    "$$\\int_{-1}^{1}2x^{4}-3x^{3}+x-5dx$$\n",
    "## Analitico\n",
    "$$\n",
    "\\int_{-1}^{1}2x^{4}-3x^{3}+x-5dx= \\Bigg[\\frac{2x^{5}}{5}-\\frac{3x^{4}}{4}+\\frac{x^{2}}{2}-5x \\Bigg] _{-1}^{1}=\\boxed{-\\frac{46}{5}}=-9.2\\\\\n",
    "$$\n"
   ]
  },
  {
   "cell_type": "markdown",
   "metadata": {},
   "source": [
    "\n",
    "## Con Cuadratura Gaussiana\n"
   ]
  },
  {
   "cell_type": "code",
   "execution_count": 13,
   "metadata": {},
   "outputs": [
    {
     "name": "stdout",
     "output_type": "stream",
     "text": [
      "Integral aproximada: -9.200000\n",
      "Error estimado: 0.000000\n"
     ]
    }
   ],
   "source": [
    "import numpy as np\n",
    "from scipy.integrate import quad\n",
    "\n",
    "# Función a integrar\n",
    "def f(x):\n",
    "    return 2*x**4 - 3*x**3 + x - 5\n",
    "\n",
    "# Usar cuadratura de Gauss\n",
    "result, error = quad(f, -1, 1) \n",
    "print(f\"Integral aproximada: {result:.6f}\")\n",
    "print(f\"Error estimado: {error:.6f}\")"
   ]
  },
  {
   "cell_type": "markdown",
   "metadata": {},
   "source": [
    "## Con Simpson"
   ]
  },
  {
   "cell_type": "code",
   "execution_count": 19,
   "metadata": {},
   "outputs": [
    {
     "name": "stdout",
     "output_type": "stream",
     "text": [
      "Integral Aproximada: -9.2000000000\n"
     ]
    }
   ],
   "source": [
    "import numpy as np\n",
    "from scipy.integrate import simpson\n",
    "\n",
    "# Función a integrar\n",
    "def f(x):\n",
    "    return 2*x**4 - 3*x**3 + x - 5\n",
    "\n",
    "# Definir x, y\n",
    "x = np.linspace(-1, 1,1000)  \n",
    "y = f(x)\n",
    "\n",
    "# Usar regla de Simpson\n",
    "result = simpson(y, x=x)\n",
    "print(f\"Integral Aproximada: {result:.10f}\")"
   ]
  },
  {
   "cell_type": "markdown",
   "metadata": {},
   "source": [
    "# Pregunta 8\n",
    "\n",
    "$$ \n",
    "\\int_{-1}^{1}\\cosh(x)dx\n",
    "$$\n",
    "\n",
    "## Analítico\n",
    "\n",
    "$$\n",
    "\\int_{-1}^{1}\\cosh(x)dx=\\sinh(x)\\Big|_{-1}^{1}=2\\sinh{(1)}\\approx\\boxed{2.3504}\n",
    "$$"
   ]
  },
  {
   "cell_type": "markdown",
   "metadata": {},
   "source": [
    "## Cuadratura Gaussiana"
   ]
  },
  {
   "cell_type": "code",
   "execution_count": null,
   "metadata": {},
   "outputs": [
    {
     "name": "stdout",
     "output_type": "stream",
     "text": [
      "Integral aproximada: -9.200000\n",
      "Error estimado: 0.000000\n"
     ]
    }
   ],
   "source": [
    "import numpy as np\n",
    "from scipy.integrate import quad\n",
    "\n",
    "# Función a integrar\n",
    "def f(x):\n",
    "    return np.cosh(x)\n",
    "\n",
    "# Usar cuadratura de Gauss\n",
    "result, error = quad(f, -1, 1) \n",
    "print(f\"Integral aproximada: {result:.6f}\")\n",
    "print(f\"Error estimado: {error:.6f}\")"
   ]
  },
  {
   "cell_type": "markdown",
   "metadata": {},
   "source": [
    "## Con Simpson"
   ]
  },
  {
   "cell_type": "code",
   "execution_count": null,
   "metadata": {},
   "outputs": [
    {
     "name": "stdout",
     "output_type": "stream",
     "text": [
      "Integral Aproximada: -9.2000000000\n"
     ]
    }
   ],
   "source": [
    "import numpy as np\n",
    "from scipy.integrate import simpson\n",
    "\n",
    "# Función a integrar\n",
    "def f(x):\n",
    "    return 2*x**4 - 3*x**3 + x - 5\n",
    "\n",
    "# Definir x, y\n",
    "x = np.linspace(-1, 1,1000)  \n",
    "y = f(x)\n",
    "\n",
    "# Usar regla de Simpson\n",
    "result = simpson(y, x=x)\n",
    "print(f\"Integral Aproximada: {result:.10f}\")"
   ]
  }
 ],
 "metadata": {
  "kernelspec": {
   "display_name": "base",
   "language": "python",
   "name": "python3"
  },
  "language_info": {
   "codemirror_mode": {
    "name": "ipython",
    "version": 3
   },
   "file_extension": ".py",
   "mimetype": "text/x-python",
   "name": "python",
   "nbconvert_exporter": "python",
   "pygments_lexer": "ipython3",
   "version": "3.12.3"
  }
 },
 "nbformat": 4,
 "nbformat_minor": 2
}
