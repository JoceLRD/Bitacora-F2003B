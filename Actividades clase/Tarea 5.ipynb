{
 "cells": [
  {
   "cell_type": "markdown",
   "id": "cc9af726",
   "metadata": {},
   "source": [
    "# Tarea 5\n"
   ]
  },
  {
   "cell_type": "markdown",
   "id": "114c3659",
   "metadata": {},
   "source": [
    "Program a 4th-order Runge-Kutta function, called rk4, with the following inputs:\n",
    "\n",
    "- A function. This function must be able to return a vector, in case you want to solve a system of equations.\n",
    "- A tuple containing the initial time, final time, and step size.\n",
    "- The initial values for all the variables.\n",
    "\n",
    "Copy the code of your function into the box below. Be sure to write a description at the beginning of the function using the docstring convention.\n"
   ]
  },
  {
   "cell_type": "code",
   "execution_count": 9,
   "id": "a18a9fdb",
   "metadata": {},
   "outputs": [
    {
     "ename": "NameError",
     "evalue": "name 'func' is not defined",
     "output_type": "error",
     "traceback": [
      "\u001b[1;31m---------------------------------------------------------------------------\u001b[0m",
      "\u001b[1;31mNameError\u001b[0m                                 Traceback (most recent call last)",
      "Cell \u001b[1;32mIn[9], line 41\u001b[0m\n\u001b[0;32m     39\u001b[0m ti \u001b[38;5;241m=\u001b[39m t[i]\n\u001b[0;32m     40\u001b[0m yi \u001b[38;5;241m=\u001b[39m y[i]\n\u001b[1;32m---> 41\u001b[0m k1 \u001b[38;5;241m=\u001b[39m func(ti, yi)\n\u001b[0;32m     42\u001b[0m k2 \u001b[38;5;241m=\u001b[39m func(ti \u001b[38;5;241m+\u001b[39m h\u001b[38;5;241m/\u001b[39m\u001b[38;5;241m2\u001b[39m, yi \u001b[38;5;241m+\u001b[39m h\u001b[38;5;241m*\u001b[39mk1\u001b[38;5;241m/\u001b[39m\u001b[38;5;241m2\u001b[39m)\n\u001b[0;32m     43\u001b[0m k3 \u001b[38;5;241m=\u001b[39m func(ti \u001b[38;5;241m+\u001b[39m h\u001b[38;5;241m/\u001b[39m\u001b[38;5;241m2\u001b[39m, yi \u001b[38;5;241m+\u001b[39m h\u001b[38;5;241m*\u001b[39mk2\u001b[38;5;241m/\u001b[39m\u001b[38;5;241m2\u001b[39m)\n",
      "\u001b[1;31mNameError\u001b[0m: name 'func' is not defined"
     ]
    }
   ],
   "source": [
    "import numpy as np\n",
    "\n",
    "def rk4(func, t_span, y0):\n",
    "    \"\"\"\n",
    "    4th-order Runge–Kutta ODE function\n",
    "\n",
    "    Parameters\n",
    "    ----------\n",
    "    func : the callable\n",
    "        A function f(t, y) that returns the derivative dy/dt.\n",
    "        It accepts:\n",
    "          - t : float\n",
    "          - y : array_like\n",
    "        and return an array_like (vector) of the same shape as y (so you can solve systems).\n",
    "    t_span : tuple of floats\n",
    "        (t0, tf, h):\n",
    "          - t0 : initial time\n",
    "          - tf : final time\n",
    "          - h  : step size\n",
    "    y0 : array_like\n",
    "        Initial value(s) of y at t = t0. Can be a scalar or a list/array for systems.\n",
    "\n",
    "    Returns\n",
    "    -------\n",
    "    t : ndarray\n",
    "        1D array of time points from t0 to tf with spacing h.\n",
    "    y : ndarray\n",
    "        2D array of solution values: each row corresponds to a time in `t`,\n",
    "        and each column to one component of y.\n",
    "    \"\"\"\n",
    "\n",
    "t0, tf, h = t_span\n",
    "t = np.arange(t0, tf + h, h)\n",
    "y0 = np.atleast_1d(y0).astype(float)\n",
    "y = np.zeros((len(t), y0.size))\n",
    "y[0] = y0\n",
    "\n",
    "for i in range(len(t) - 1):\n",
    "    ti = t[i]\n",
    "    yi = y[i]\n",
    "    k1 = func(ti, yi)\n",
    "    k2 = func(ti + h/2, yi + h*k1/2)\n",
    "    k3 = func(ti + h/2, yi + h*k2/2)\n",
    "    k4 = func(ti + h,yi + h*k3)\n",
    "    y[i+1] = yi + (h/6)*(k1 + 2*k2 + 2*k3 + k4)\n",
    "\n",
    "return t, y"
   ]
  },
  {
   "cell_type": "markdown",
   "id": "31e48300",
   "metadata": {},
   "source": [
    "In the following circuit \n",
    "[imagen!](<\"circuio.png\">)\n",
    "The voltages of each capacitor are given by the following equations:\n",
    "\n",
    "$$\n",
    "\\begin{aligned}\n",
    "\\frac{1}{R_{2}C_{3}} \\frac{dV_{3}}{dt}+ \\frac{1}{R_{2}C_{4}} \\frac{dV_{4}}{dt}+V_{3}=V\\\\\n",
    "\\frac{1}{R_{4}C_{4}} \\frac{dV_{4}}{dt}+V_{4}-V_{3}=0\\\\\n",
    "\\end{aligned}\n",
    "$$\n",
    "\n",
    "Where $R_2=R_4=100\\Omega$, $C_3=50\\mu f$, and $C_4=200\\mu f$"
   ]
  },
  {
   "cell_type": "code",
   "execution_count": 8,
   "id": "7d324faf",
   "metadata": {},
   "outputs": [
    {
     "data": {
      "image/png": "[encoded data removed]",
      "text/plain": [
       "<Figure size 640x480 with 1 Axes>"
      ]
     },
     "metadata": {},
     "output_type": "display_data"
    }
   ],
   "source": [
    "import numpy as np\n",
    "import matplotlib.pyplot as plt\n",
    "\n",
    "def rk4(func, t_span, y0):\n",
    "    \"\"\"\n",
    "    4th-order Runge–Kutta ODE function\n",
    "\n",
    "    Parameters\n",
    "    ----------\n",
    "    func : the callable\n",
    "        A function f(t, y) that returns the derivative dy/dt.\n",
    "        It accepts:\n",
    "          - t : float\n",
    "          - y : array_like\n",
    "        and return an array_like (vector) of the same shape as y (so you can solve systems).\n",
    "    t_span : tuple of floats\n",
    "        (t0, tf, h):\n",
    "          - t0 : initial time\n",
    "          - tf : final time\n",
    "          - h  : step size\n",
    "    y0 : array_like\n",
    "        Initial value(s) of y at t = t0. Can be a scalar or a list/array for systems.\n",
    "\n",
    "    Returns\n",
    "    -------\n",
    "    t : ndarray\n",
    "        1D array of time points from t0 to tf with spacing h.\n",
    "    y : ndarray\n",
    "        2D array of solution values: each row corresponds to a time in `t`,\n",
    "        and each column to one component of y.\n",
    "    \"\"\"\n",
    "\n",
    "    t0, tf, h = t_span\n",
    "    t = np.arange(t0, tf + h, h)\n",
    "    y0 = np.atleast_1d(y0).astype(float)\n",
    "    y = np.zeros((len(t), y0.size))\n",
    "    y[0] = y0\n",
    "\n",
    "    for i in range(len(t) - 1):\n",
    "        ti = t[i]\n",
    "        yi = y[i]\n",
    "        k1 = func(ti, yi)\n",
    "        k2 = func(ti + h/2, yi + h*k1/2)\n",
    "        k3 = func(ti + h/2, yi + h*k2/2)\n",
    "        k4 = func(ti + h,yi + h*k3)\n",
    "        y[i+1] = yi + (h/6)*(k1 + 2*k2 + 2*k3 + k4)\n",
    "\n",
    "    return t, y \n",
    "\n",
    "R2 = R4 = 100.0         # Ohms\n",
    "C3 = 50e-6              # Farads\n",
    "C4 = 200e-6             # Farads\n",
    "V_supply = 1.0          # Volt (unit step input)\n",
    "\n",
    "# System of ODEs derived:\n",
    "# dV3/dt = 0.005 * (V - 2*V3 + V4)\n",
    "# dV4/dt = 0.02  * (V3 - V4)\n",
    "def circuit_odes(t, vars):\n",
    "    V3, V4 = vars\n",
    "    dV4_dt = R4 * C4 * (V3 - V4)\n",
    "    dV3_dt = C3 * (R2 * (V_supply - V3) - R4 * (V3 - V4))\n",
    "    return np.array([dV3_dt, dV4_dt])\n",
    "\n",
    "# Initial conditions and integration span\n",
    "y0 = [0.0, 0.0]            # V3(0)=0, V4(0)=0\n",
    "t_span = (0.0, 0.05, 1e-4) # simulate from 0 to 0.05 s with step 0.0001 s\n",
    "\n",
    "# Solve\n",
    "t, y = rk4(circuit_odes, t_span, y0)\n",
    "V4 = y[:, 1]\n",
    "\n",
    "# Plot V4 vs time\n",
    "plt.figure()\n",
    "plt.plot(t, V4)\n",
    "plt.xlabel('Time (s)')\n",
    "plt.ylabel('V4 (V)')\n",
    "plt.title('Voltage V4 vs Time')\n",
    "plt.grid(True)\n",
    "plt.show()# Given parameters\n",
    "R2 = R4 = 100.0         # Ohms\n",
    "C3 = 50e-6              # Farads\n",
    "C4 = 200e-6             # Farads\n",
    "V_supply = 1.0          # Volt (unit step input)\n"
   ]
  }
 ],
 "metadata": {
  "kernelspec": {
   "display_name": "base",
   "language": "python",
   "name": "python3"
  },
  "language_info": {
   "codemirror_mode": {
    "name": "ipython",
    "version": 3
   },
   "file_extension": ".py",
   "mimetype": "text/x-python",
   "name": "python",
   "nbconvert_exporter": "python",
   "pygments_lexer": "ipython3",
   "version": "3.12.3"
  }
 },
 "nbformat": 4,
 "nbformat_minor": 5
}
