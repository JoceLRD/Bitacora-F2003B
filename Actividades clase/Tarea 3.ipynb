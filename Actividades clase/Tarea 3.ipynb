{
 "cells": [
  {
   "cell_type": "markdown",
   "id": "33603c5d",
   "metadata": {},
   "source": [
    "# Parte 1 - Ecuacion de difusión en 1D\n",
    "\n",
    "Una partícula Browniana que se difunde en una caja unidimensional de 100um de ancho, empieza perfectamente localizada en el centro de la caja. La probabilidad de encontrar a la partícula en un punto $x$, después de un tiempo $t$, $P(t,x)$ está dada por la ecuación:\n",
    "\n",
    "$$\n",
    "\\frac{\\partial P(x,t)}{\\partial t}=D\\frac{\\partial^2 P(x,t)}{\\partial x^2}\n",
    "$$\n",
    "\n",
    "Donde $D=1$ es el coeficiente de difusión. En este ejercicio calcularemos el valor de la función de probabilidad $P(t,x)$ conforme pasa el tiempo. "
   ]
  },
  {
   "cell_type": "markdown",
   "id": "cd51d370",
   "metadata": {},
   "source": [
    "\n",
    "\n",
    "Responde lo siguiente: \n",
    "\n",
    "    ¿Cómo puedes representar la función P(x,t) para resolver este problema?\n",
    "    ¿Cómo puedes calcular la derivada temporal y la segunda derivada espacial de la función?\n",
    "\n"
   ]
  },
  {
   "cell_type": "markdown",
   "id": "da4459b1",
   "metadata": {},
   "source": [
    "Suponiendo que tienes el valor de la función en un instante de tiempo , responde lo siguiente:\n",
    "\n",
    "¿Qué ecuación puedes utilizar para obtener, aproximadamente, el valor en un instante posterior,?\n",
    "¿Qué condición existen para que esta sea una buena aproximación?\n",
    "¿Cómo puedes implementar las condiciones iniciales y las condiciones de frontera?"
   ]
  },
  {
   "cell_type": "markdown",
   "id": "0c52227d",
   "metadata": {},
   "source": [
    "Implementa esta ecuación de forma eficiente. Escribe abajo el código que utilizarás para realizar el cálculo.  "
   ]
  },
  {
   "cell_type": "markdown",
   "id": "2f035d04",
   "metadata": {},
   "source": [
    "Utiliza la ecuación que escribiste antes para obtener el valor de la función después de 20, 40, 60 y 100 segundos. Muestra todos estos valores en una sola gráfica.  "
   ]
  }
 ],
 "metadata": {
  "language_info": {
   "name": "python"
  }
 },
 "nbformat": 4,
 "nbformat_minor": 5
}
