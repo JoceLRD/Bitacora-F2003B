{
 "cells": [
  {
   "cell_type": "markdown",
   "id": "33603c5d",
   "metadata": {},
   "source": [
    "# Parte 1 - Ecuacion de difusión en 1D\n",
    "\n",
    "Una partícula Browniana que se difunde en una caja unidimensional de 100um de ancho, empieza perfectamente localizada en el centro de la caja. La probabilidad de encontrar a la partícula en un punto $x$, después de un tiempo $t$, $P(t,x)$ está dada por la ecuación:\n",
    "\n",
    "$$\n",
    "\\frac{\\partial P(x,t)}{\\partial t}=D\\frac{\\partial^2 P(x,t)}{\\partial x^2}\n",
    "$$\n",
    "\n",
    "Donde $D=1$ es el coeficiente de difusión. En este ejercicio calcularemos el valor de la función de probabilidad $P(t,x)$ conforme pasa el tiempo. "
   ]
  },
  {
   "cell_type": "markdown",
   "id": "cd51d370",
   "metadata": {},
   "source": [
    "\n",
    "\n",
    "Responde lo siguiente: \n",
    "\n",
    "    ¿Cómo puedes representar la función P(x,t) para resolver este problema?\n",
    "    ¿Cómo puedes calcular la derivada temporal y la segunda derivada espacial de la función?\n",
    "\n"
   ]
  },
  {
   "cell_type": "markdown",
   "id": "da4459b1",
   "metadata": {},
   "source": [
    "Suponiendo que tienes el valor de la función en un instante de tiempo , responde lo siguiente:\n",
    "\n",
    "¿Qué ecuación puedes utilizar para obtener, aproximadamente, el valor en un instante posterior,?\n",
    "¿Qué condición existen para que esta sea una buena aproximación?\n",
    "¿Cómo puedes implementar las condiciones iniciales y las condiciones de frontera?"
   ]
  },
  {
   "cell_type": "markdown",
   "id": "0c52227d",
   "metadata": {},
   "source": [
    "Implementa esta ecuación de forma eficiente. Escribe abajo el código que utilizarás para realizar el cálculo.  "
   ]
  },
  {
   "cell_type": "markdown",
   "id": "2f035d04",
   "metadata": {},
   "source": [
    "Utiliza la ecuación que escribiste antes para obtener el valor de la función después de 20, 40, 60 y 100 segundos. Muestra todos estos valores en una sola gráfica.  "
   ]
  },
  {
   "cell_type": "markdown",
   "id": "69d3cb9d",
   "metadata": {},
   "source": [
    "Haz una animación de la evolución de la función durante los primeros 100 segundos. (Para realizar animaciones en jupyter, tienes que usar la función de matplotlib FuncAnimation. Puedes utilizar la función que se encuentra en este archivo animation.py Download animation.py)"
   ]
  },
  {
   "cell_type": "code",
   "execution_count": null,
   "id": "15f222c4",
   "metadata": {},
   "outputs": [
    {
     "ename": "IndentationError",
     "evalue": "expected an indented block after 'if' statement on line 15 (3994677540.py, line 17)",
     "output_type": "error",
     "traceback": [
      "\u001b[1;36m  Cell \u001b[1;32mIn[3], line 17\u001b[1;36m\u001b[0m\n\u001b[1;33m    fig, ax = plt.subplots(1,1, figsize=(4,1), tight_layout=True)\u001b[0m\n\u001b[1;37m    ^\u001b[0m\n\u001b[1;31mIndentationError\u001b[0m\u001b[1;31m:\u001b[0m expected an indented block after 'if' statement on line 15\n"
     ]
    }
   ],
   "source": [
    "from matplotlib.animation import FuncAnimation\n",
    "from IPython.display import HTML\n",
    "import matplotlib.animation as animation\n",
    "import matplotlib as mpl\n",
    "import matplotlib.pyplot as plt\n",
    "import tqdm.auto as tqdm\n",
    "def animate_line(U, x, duration, ax = None):\n",
    "    \"\"\" Anima una linea a partir de todos los renglones de la matriz U\n",
    "    Input:\n",
    "    U: la matriz con los datos\n",
    "    x: un vector con los valores del dominio,\n",
    "    duration: the duration of the animation in seconds\n",
    "    ax: (opcional) los ejes que se usarán para crear la figura. Estos ejes se\n",
    "    borrarán al final.\"\"\"\n",
    "    if ax is None:\n",
    "    ## Create a default axis\n",
    "    fig, ax = plt.subplots(1,1, figsize=(4,1), tight_layout=True)\n",
    "    else:\n",
    "    fig = ax.figure\n",
    "    # We initialize an empty line object.\n",
    "    xdata, ydata = [], []\n",
    "    ln1, = ax.plot(xdata,ydata) # Line is a global object, so that the \"update\"\n",
    "    function has access\n",
    "    def init():\n",
    "    if ax is None:\n",
    "    ## Default axis limits\n",
    "    ax.set_ylim(np.min(U), np.max(U))\n",
    "    ax.set_xlim(np.min(x), np.max(x))\n",
    "return ln1,\n",
    "    # this progressbar allows us to tell how long the animation takes to be\n",
    "    generated\n",
    "    pbar = tqdm.tqdm(total = len(U))\n",
    "def update(i):\n",
    "        # here we access the data for frame i\n",
    "    xdata = x\n",
    "     ydata = U[i]\n",
    "        ln1.set_data(xdata, ydata)\n",
    "        pbar.update() # this updates the progressbar.\n",
    "        return ln1,\n",
    "    anim = FuncAnimation(fig, update, frames=range(len(U)),\n",
    "    init_func=init, blit=True, interval = duration/len(U)*1000)\n",
    "    vid = anim.to_html5_video()\n",
    "    pbar.close()\n",
    "    ax.remove()\n",
    "    return vid"
   ]
  }
 ],
 "metadata": {
  "kernelspec": {
   "display_name": "base",
   "language": "python",
   "name": "python3"
  },
  "language_info": {
   "codemirror_mode": {
    "name": "ipython",
    "version": 3
   },
   "file_extension": ".py",
   "mimetype": "text/x-python",
   "name": "python",
   "nbconvert_exporter": "python",
   "pygments_lexer": "ipython3",
   "version": "3.12.3"
  }
 },
 "nbformat": 4,
 "nbformat_minor": 5
}
