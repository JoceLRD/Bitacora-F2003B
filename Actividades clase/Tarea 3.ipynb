{
 "cells": [
  {
   "cell_type": "markdown",
   "id": "33603c5d",
   "metadata": {},
   "source": [
    "# Parte 1 - Ecuacion de difusión en 1D\n",
    "\n",
    "Una partícula Browniana que se difunde en una caja unidimensional de 100um de ancho, empieza perfectamente localizada en el centro de la caja. La probabilidad de encontrar a la partícula en un punto $x$, después de un tiempo $t$, $P(t,x)$ está dada por la ecuación:\n",
    "\n",
    "$$\n",
    "\\frac{\\partial P(x,t)}{\\partial t}=D\\frac{\\partial^2 P(x,t)}{\\partial x^2}\n",
    "$$\n",
    "\n",
    "Donde $D=1$ es el coeficiente de difusión. En este ejercicio calcularemos el valor de la función de probabilidad $P(t,x)$ conforme pasa el tiempo. "
   ]
  },
  {
   "cell_type": "markdown",
   "id": "cd51d370",
   "metadata": {},
   "source": [
    "\n",
    "\n",
    "Responde lo siguiente: \n",
    "\n",
    "    ¿Cómo puedes representar la función P(x,t) para resolver este problema?\n",
    "    ¿Cómo puedes calcular la derivada temporal y la segunda derivada espacial de la función?\n",
    "\n"
   ]
  }
 ],
 "metadata": {
  "language_info": {
   "name": "python"
  }
 },
 "nbformat": 4,
 "nbformat_minor": 5
}
