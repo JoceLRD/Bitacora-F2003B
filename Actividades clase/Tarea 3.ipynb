{
 "cells": [
  {
   "cell_type": "markdown",
   "id": "33603c5d",
   "metadata": {},
   "source": [
    "# Parte 1 - Ecuacion de difusión en 1D\n",
    "\n",
    "Una partícula Browniana que se difunde en una caja unidimensional de 100um de ancho, empieza perfectamente localizada en el centro de la caja. La probabilidad de encontrar a la partícula en un punto $x$, después de un tiempo $t$, $P(t,x)$ está dada por la ecuación:\n",
    "\n",
    "$$\n",
    "\\frac{\\partial P(x,t)}{\\partial t}=D\\frac{\\partial^2 P(x,t)}{\\partial x^2}\n",
    "$$\n",
    "\n"
   ]
  }
 ],
 "metadata": {
  "language_info": {
   "name": "python"
  }
 },
 "nbformat": 4,
 "nbformat_minor": 5
}
