{
 "cells": [
  {
   "cell_type": "markdown",
   "id": "33603c5d",
   "metadata": {},
   "source": [
    "# Parte 1 - Ecuacion de difusión en 1D\n",
    "\n",
    "Una partícula Browniana que se difunde en una caja unidimensional de 100um de ancho, empieza perfectamente localizada en el centro de la caja. La probabilidad de encontrar a la partícula en un punto $x$, después de un tiempo $t$, $P(t,x)$ está dada por la ecuación:\n",
    "\n",
    "$$\n",
    "\\frac{\\partial P(x,t)}{\\partial t}=D\\frac{\\partial^2 P(x,t)}{\\partial x^2}\n",
    "$$\n",
    "\n",
    "Donde $D=1$ es el coeficiente de difusión. En este ejercicio calcularemos el valor de la función de probabilidad $P(t,x)$ conforme pasa el tiempo. "
   ]
  },
  {
   "cell_type": "markdown",
   "id": "cd51d370",
   "metadata": {},
   "source": [
    "**¿Cómo puedes representar la función P(x,t) para resolver este problema?¿Cómo puedes calcular la derivada temporal y la segunda derivada espacial de la función?**\n",
    "\n",
    "Se puede representar $P(x,t)$ como una matriz (o arreglo 2D), donde cada fila representa el estado del sistema en un instante de tiempo $t$,y cada columna representa un punto del espacio $x$. Y para calcular sus derivadas temporales usamos las expreciones sacadas de las diferencias finitas.\n",
    "$$\\frac{\\partial P(x,t)}{\\partial t}\\approx \\frac{P(x,t+\\Delta t)-P(x,t)}{\\Delta t}$$\n",
    "\n",
    "Y la segunda derivada espacial se puede aproximar como:\n",
    "\n",
    "$$\\frac{\\partial^2 P(x,t)}{\\partial x^2}\\approx \\frac{P(x+\\Delta x,t)-2P(x,t)+P(x-t\\Delta x,t)}{(\\Delta x)^2}$$\n"
   ]
  },
  {
   "cell_type": "markdown",
   "id": "da4459b1",
   "metadata": {},
   "source": [
    "**Suponiendo que tienes el valor de la función en un instante de tiempo , responde lo siguiente:**\n",
    "**¿Qué ecuación puedes utilizar para obtener, aproximadamente, el valor en un instante posterior, $P(t+\\Delta t,x)$ ?**\n",
    "**¿Qué condición existen para que esta sea una buena aproximación?**\n",
    "**¿Cómo puedes implementar las condiciones iniciales y las condiciones de frontera?**\n",
    "\n",
    "Para poder obtener el valor en un instante posterior, se puede usar el esquema de diferencias finitas (método de Euler explícito):\n",
    "\n",
    "$$P(t+\\Delta t,x)=P(t,x)+D\\Delta t \\cdot\\frac{P(x+\\delta x,t)-2P(x,t)+P(x-\\Delta x,t)}{(\\Delta x)^2}$$\n",
    "Este método permite avanzar paso a paso en el tiempo, calculando la nueva distribución de probabilidad en función de la difusión de la anterior.\n",
    "\n",
    "Para estabilidad del método explícito, se debe cumplir la condición de estabilidad de CFL:\n",
    "$$\\frac{D\\Delta t}{(\\Delta x)^2}\\leq\\frac12$$\n",
    "Esto evita que los errores numéricos crezcan con el tiempo.\n",
    "\n",
    " \n",
    "\n",
    "Y para la condicion inicial, la partícula está perfectamente localizada en el centro de la caja. Se puede usar una delta de Dirac aproximada como un pico (por ejemplo, poner un 1 en la celda central y ceros en el resto). Para las condiciones de frontera, como es una caja cerrada, se puede usar condiciones de frontera de tipo Dirichlet (por ejemplo, P=0 en los extremos) o Neumann (derivada espacial cero, es decir, sin flujo). En el codigo que usamos, utilizamos Dirichlet"
   ]
  },
  {
   "cell_type": "markdown",
   "id": "0c52227d",
   "metadata": {},
   "source": [
    "Implementa esta ecuación de forma eficiente. Escribe abajo el código que utilizarás para realizar el cálculo.  "
   ]
  },
  {
   "cell_type": "markdown",
   "id": "2f035d04",
   "metadata": {},
   "source": [
    "Utiliza la ecuación que escribiste antes para obtener el valor de la función después de 20, 40, 60 y 100 segundos. Muestra todos estos valores en una sola gráfica.  "
   ]
  },
  {
   "cell_type": "markdown",
   "id": "69d3cb9d",
   "metadata": {},
   "source": [
    "Haz una animación de la evolución de la función durante los primeros 100 segundos. (Para realizar animaciones en jupyter, tienes que usar la función de matplotlib FuncAnimation. Puedes utilizar la función que se encuentra en este archivo animation.py Download animation.py)"
   ]
  },
  {
   "cell_type": "code",
   "execution_count": 3,
   "id": "4c944cbb",
   "metadata": {},
   "outputs": [
    {
     "data": {
      "text/html": [
       "<video src=\"difusion.mp4\" controls  >\n",
       "      Your browser does not support the <code>video</code> element.\n",
       "    </video>"
      ],
      "text/plain": [
       "<IPython.core.display.Video object>"
      ]
     },
     "execution_count": 3,
     "metadata": {},
     "output_type": "execute_result"
    },
    {
     "data": {
      "image/png": "[encoded data removed]",
      "text/plain": [
       "<Figure size 1000x600 with 1 Axes>"
      ]
     },
     "metadata": {},
     "output_type": "display_data"
    }
   ],
   "source": [
    "import numpy as np\n",
    "import matplotlib.pyplot as plt\n",
    "from matplotlib.animation import FuncAnimation\n",
    "from IPython.display import Video, HTML\n",
    "# Parámetros\n",
    "L = 100.0      # Longitud de la caja en micras\n",
    "D = 1.0        # Coeficiente de difusión\n",
    "dx = 1.0       # Paso espacial\n",
    "dt = 0.4       # Paso temporal (cumple condición de estabilidad)\n",
    "x = np.arange(0, L + dx, dx)\n",
    "Nx = len(x)\n",
    "total_time = 100\n",
    "n_steps = int(total_time / dt)\n",
    "\n",
    "# Inicialización de la distribución de probabilidad\n",
    "P = np.zeros(Nx)\n",
    "P[Nx // 2] = 1.0\n",
    "P = P / (dx * np.sum(P))  # Normalizamos para que la integral sea ~1\n",
    "\n",
    "# Guardamos la evolución para la animación\n",
    "history = []\n",
    "history.append(P.copy())\n",
    "\n",
    "# Evolución temporal\n",
    "for step in range(n_steps):\n",
    "    P_new = np.copy(P)\n",
    "    for i in range(1, Nx - 1):\n",
    "        P_new[i] = P[i] + D * dt / dx**2 * (P[i + 1] - 2 * P[i] + P[i - 1])\n",
    "    # Condiciones de frontera absorbentes\n",
    "    P_new[0] = 0\n",
    "    P_new[-1] = 0\n",
    "    P = P_new\n",
    "    history.append(P.copy())\n",
    "\n",
    "# Configuración de la animación\n",
    "fig, ax = plt.subplots(figsize=(10, 6))\n",
    "line, = ax.plot(x, history[0])\n",
    "ax.set_xlim(0, L)\n",
    "ax.set_ylim(0, max(history[0]) * 1.2)\n",
    "ax.set_xlabel('Posición (micras)')\n",
    "ax.set_ylabel('Probabilidad P(x,t)')\n",
    "ax.set_title('Evolución de la distribución de probabilidad')\n",
    "\n",
    "# Función que actualiza cada cuadro\n",
    "def update(frame):\n",
    "    line.set_ydata(history[frame])\n",
    "    ax.set_title(f'Evolución de P(x,t) - Tiempo: {frame * dt:.1f} s')\n",
    "    return line,\n",
    "\n",
    "# Crear animación\n",
    "anim = FuncAnimation(fig, update, frames=len(history), interval=50, blit=True)\n",
    "\n",
    "HTML(anim.to_jshtml())\n",
    "anim.save('difusion.mp4', writer='ffmpeg', fps=10)\n",
    "Video(\"difusion.mp4\")"
   ]
  }
 ],
 "metadata": {
  "kernelspec": {
   "display_name": "base",
   "language": "python",
   "name": "python3"
  },
  "language_info": {
   "codemirror_mode": {
    "name": "ipython",
    "version": 3
   },
   "file_extension": ".py",
   "mimetype": "text/x-python",
   "name": "python",
   "nbconvert_exporter": "python",
   "pygments_lexer": "ipython3",
   "version": "3.12.3"
  }
 },
 "nbformat": 4,
 "nbformat_minor": 5
}
