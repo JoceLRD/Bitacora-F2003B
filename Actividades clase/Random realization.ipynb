{
 "cells": [
  {
   "cell_type": "markdown",
   "id": "d559ce68",
   "metadata": {},
   "source": [
    "Write a program that generates random realizations of the Cauchy distribution with null location and unit scale:\n",
    "$$f(x)=\\frac{1}{\\pi(1+x^2)}$$\n",
    "\n",
    "Make a histogram between -5 and 5 with 50 bins, for a random realization with 1,000 points, together with the theoretical curve. Make sure that the histogram and theoretical curve have the same units.\n",
    "Make a plot of the fractional difference for the plot above.\n",
    "Try now samples of different sizes and compute the global rms deviations between both curves as a function of the size of the random realization. Try a range in size from at least 100 points up to at least 106\n",
    "Give your conclusion about your results\n"
   ]
  }
 ],
 "metadata": {
  "language_info": {
   "name": "python"
  }
 },
 "nbformat": 4,
 "nbformat_minor": 5
}
