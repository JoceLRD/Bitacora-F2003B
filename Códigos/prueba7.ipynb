{
 "cells": [
  {
   "cell_type": "code",
   "execution_count": null,
   "id": "4f2f0b9e",
   "metadata": {},
   "outputs": [],
   "source": [
    "import numpy as np\n",
    "from scipy.integrate import solve_ivp\n",
    "\n",
    "# Parámetros\n",
    "M = 5.0       # masa del disco\n",
    "m = 0.1       # masa de cada cuchilla\n",
    "R = 1.0       # radio del disco\n",
    "r = 0.8       # distancia pivote\n",
    "L = 0.8       # longitud de la cuchilla\n",
    "\n",
    "# Inercias\n",
    "I_disc  = 0.5 * M * R**2\n",
    "I_blade = (1/3) * m * L**2\n",
    "\n",
    "# Momento de inercia total\n",
    "I_tot = I_disc + 2*(m*r**2 + I_blade)\n"
   ]
  },
  {
   "cell_type": "markdown",
   "id": "6b209a40",
   "metadata": {},
   "source": []
  },
  {
   "cell_type": "code",
   "execution_count": null,
   "id": "fa8ce98d",
   "metadata": {},
   "outputs": [],
   "source": [
    "def tau_motor(t):\n",
    "    return 2.0"
   ]
  },
  {
   "cell_type": "markdown",
   "id": "2d3b95b9",
   "metadata": {},
   "source": []
  },
  {
   "cell_type": "code",
   "execution_count": null,
   "id": "9ac0f5e4",
   "metadata": {},
   "outputs": [],
   "source": [
    "def tau_disc_b(phi_dot, theta, theta_dot, b):\n",
    "    term_phi = b * phi_dot * np.sin(theta) * (r*L**2/2 + (L**3/3)*np.cos(theta))\n",
    "    term_th  = b * theta_dot * np.sin(theta) * (L**3/3)\n",
    "    return term_phi + term_th\n"
   ]
  },
  {
   "cell_type": "markdown",
   "id": "dc4555a5",
   "metadata": {},
   "source": []
  },
  {
   "cell_type": "code",
   "execution_count": null,
   "id": "0a1cdae0",
   "metadata": {},
   "outputs": [],
   "source": [
    "def theta_dd(phi_dot, theta, theta_dot, b, c_th, k, theta0):\n",
    "    # términos centrífugos\n",
    "    cent1 = 0.5*m*r*L*phi_dot**2*np.sin(theta)\n",
    "    cent2 = (1/3)*m*L**2*phi_dot**2*np.sin(theta)*np.cos(theta)\n",
    "    # torque de pasto sobre cuchilla\n",
    "    tau_g = b*phi_dot*np.sin(theta)*(r*L**2/2) + b*theta_dot*np.sin(theta)*(L**3/3)\n",
    "    # resorte y amortiguamiento\n",
    "    tau_s = -k*(theta-theta0)\n",
    "    tau_d = -c_th*theta_dot\n",
    "\n",
    "    return (-cent1 - cent2 - tau_g + tau_s + tau_d) / I_blade\n"
   ]
  },
  {
   "cell_type": "markdown",
   "id": "cea70919",
   "metadata": {},
   "source": []
  },
  {
   "cell_type": "code",
   "execution_count": null,
   "id": "3d8a7057",
   "metadata": {},
   "outputs": [],
   "source": [
    "def odes(t, y):\n",
    "    phi, phidot, th1, dth1, th2, dth2 = y\n",
    "\n",
    "    # motor y fricción del disco\n",
    "    phidd = (tau_motor(t)\n",
    "             - tau_disc_b(phidot, th1, dth1, b1)\n",
    "             - tau_disc_b(phidot, th2, dth2, b2)\n",
    "             - c_disk*phidot) / I_tot\n",
    "\n",
    "    dth1dd = theta_dd(phidot, th1, dth1, b1, c_th1, k1, theta01)\n",
    "    dth2dd = theta_dd(phidot, th2, dth2, b2, c_th2, k2, theta02)\n",
    "\n",
    "    return [phidot, phidd, dth1, dth1dd, dth2, dth2dd]\n"
   ]
  },
  {
   "cell_type": "markdown",
   "id": "7f824eac",
   "metadata": {},
   "source": []
  },
  {
   "cell_type": "code",
   "execution_count": 7,
   "id": "27b8e00f",
   "metadata": {},
   "outputs": [
    {
     "data": {
      "image/png": "[encoded data removed]",
      "text/plain": [
       "<Figure size 640x480 with 1 Axes>"
      ]
     },
     "metadata": {},
     "output_type": "display_data"
    }
   ],
   "source": [
    "import numpy as np\n",
    "from scipy.integrate import solve_ivp\n",
    "import matplotlib.pyplot as plt\n",
    "# Parámetros\n",
    "M = 5.0       # masa del disco\n",
    "m = 0.1       # masa de cada cuchilla\n",
    "R = 1.0       # radio del disco\n",
    "r = 0.8       # distancia pivote\n",
    "L = 0.8       # longitud de la cuchilla\n",
    "\n",
    "# ------------------------\n",
    "# Coeficientes ajustables\n",
    "# ------------------------\n",
    "b1 = 1e4     # densidad de pasto cuchilla 1\n",
    "b2 = 1       # densidad de pasto cuchilla 2\n",
    "c_disk = 1     # fricción viscosa del disco\n",
    "c_th1 = 1    # amortiguamiento pivote cuchilla 1\n",
    "c_th2 = 0.1    # amortiguamiento pivote cuchilla 2\n",
    "k1 = 5.0         # constante de resorte torsional cuchilla 1\n",
    "k2 = 0         # constante de resorte torsional cuchilla 2\n",
    "theta01 = 3.14   # ángulo “full extend” cuchilla 1\n",
    "theta02 = 0    # ángulo “full extend” cuchilla 2\n",
    "\n",
    "def tau_motor(t):\n",
    "    return 2.0\n",
    "# Inercias\n",
    "I_disc  = 0.5 * M * R**2\n",
    "I_blade = (1/3) * m * L**2\n",
    "\n",
    "# Momento de inercia total (haciendo explícito m r^2)\n",
    "I_tot = I_disc + 2*(m*r**2 + I_blade)\n",
    "\n",
    "def tau_disc_b(phi_dot, theta, theta_dot, b):\n",
    "    term_phi = b * phi_dot * np.sin(theta) * (r*L**2/2 + (L**3/3)*np.cos(theta))\n",
    "    term_th  = b * theta_dot * np.sin(theta) * (L**3/3)\n",
    "    return term_phi + term_th\n",
    "\n",
    "def theta_dd(phi_dot, theta, theta_dot, b, c_th, k, theta0):\n",
    "    # términos centrífugos\n",
    "    cent1 = 0.5*m*r*L*phi_dot**2*np.sin(theta)\n",
    "    cent2 = (1/3)*m*L**2*phi_dot**2*np.sin(theta)*np.cos(theta)\n",
    "    # torque de pasto sobre cuchilla\n",
    "    tau_g = b*phi_dot*np.sin(theta)*(r*L**2/2) + b*theta_dot*np.sin(theta)*(L**3/3)\n",
    "    # resorte y amortiguamiento\n",
    "    tau_s = -k*(theta-theta0)\n",
    "    tau_d = -c_th*theta_dot\n",
    "\n",
    "    return (-cent1 - cent2 - tau_g + tau_s + tau_d) / I_blade\n",
    "\n",
    "def odes(t, y):\n",
    "    phi, phidot, th1, dth1, th2, dth2 = y\n",
    "\n",
    "    # motor y fricción del disco\n",
    "    phidd = (tau_motor(t)\n",
    "             - tau_disc_b(phidot, th1, dth1, b1)\n",
    "             - tau_disc_b(phidot, th2, dth2, b2)\n",
    "             - c_disk*phidot) / I_tot\n",
    "\n",
    "    dth1dd = theta_dd(phidot, th1, dth1, b1, c_th1, k1, theta01)\n",
    "    dth2dd = theta_dd(phidot, th2, dth2, b2, c_th2, k2, theta02)\n",
    "\n",
    "    return [phidot, phidd, dth1, dth1dd, dth2, dth2dd]\n",
    "\n",
    "y0     = [0, 0, theta01, 0, theta02, 0]\n",
    "t_span = (0, 100)\n",
    "t_eval = np.linspace(*t_span, 1000)\n",
    "\n",
    "sol = solve_ivp(odes, t_span, y0, t_eval=t_eval)\n",
    "\n",
    "\n",
    "t      = sol.t\n",
    "phi    = sol.y[0]\n",
    "phidot = sol.y[1]\n",
    "th1    = sol.y[2]\n",
    "dth1   = sol.y[3]\n",
    "th2    = sol.y[4]\n",
    "dth2   = sol.y[5]\n",
    "\n",
    "# aceleraciones θ¨(t)\n",
    "ddth1 = np.array([theta_dd(phidot[i], th1[i], dth1[i], b1, c_th1, k1, theta01)\n",
    "                  for i in range(len(t))])\n",
    "ddth2 = np.array([theta_dd(phidot[i], th2[i], dth2[i], b2, c_th2, k2, theta02)\n",
    "                  for i in range(len(t))])\n",
    "\n",
    "plt.figure()\n",
    "plt.plot(t, ddth1, label='θ¨₁')\n",
    "plt.plot(t, ddth2, label='θ¨₂')\n",
    "plt.xlabel('Tiempo (s)')\n",
    "plt.ylabel('Aceleración (rad/s²)')\n",
    "plt.title('Aceleración angular de las cuchillas')\n",
    "plt.legend()\n",
    "plt.grid(True)"
   ]
  }
 ],
 "metadata": {
  "kernelspec": {
   "display_name": "base",
   "language": "python",
   "name": "python3"
  },
  "language_info": {
   "codemirror_mode": {
    "name": "ipython",
    "version": 3
   },
   "file_extension": ".py",
   "mimetype": "text/x-python",
   "name": "python",
   "nbconvert_exporter": "python",
   "pygments_lexer": "ipython3",
   "version": "3.12.7"
  }
 },
 "nbformat": 4,
 "nbformat_minor": 5
}
